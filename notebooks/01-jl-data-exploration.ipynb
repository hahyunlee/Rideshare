{
 "cells": [
  {
   "cell_type": "code",
   "execution_count": 1,
   "metadata": {},
   "outputs": [],
   "source": [
    "import pandas as pd\n",
    "import numpy as np\n",
    "import scipy as sc\n",
    "from sklearn.linear_model import LogisticRegression, LinearRegression\n",
    "import matplotlib.pyplot as plt\n",
    "from mpl_toolkits.mplot3d import Axes3D\n",
    "from datetime import datetime\n",
    "from sklearn.metrics import *\n",
    "from sklearn.ensemble import *\n",
    "from sklearn.model_selection import train_test_split\n",
    "# from sklearn.ensemble.partial_dependence import plot_partial_dependence"
   ]
  },
  {
   "cell_type": "code",
   "execution_count": 7,
   "metadata": {},
   "outputs": [],
   "source": [
    "def run_data_pipeline(df):\n",
    "    \"\"\"\n",
    "    Data pipeline is outlined by the following process:\n",
    "        1) Sort the data by last trip date in ascending order\n",
    "        2) Fill in missing ratings data with the average rating of all riders and drivers respectively\n",
    "        3) Drop the remaining records that contain any sort of missing values (other than ratings)\n",
    "        4) Convert last trip date from pandas object to datetime format\n",
    "        5) Create a \"churn\" column of Boolean value to determine based on our company standards of active users\n",
    "        6) Create column in Boolean value if app user's device is an iPhone\n",
    "        7) Convert luxury car indicator to Boolean\n",
    "        8) Create dummy variables for city\n",
    "    \"\"\"\n",
    "\n",
    "    df = df.sort_values(by=['last_trip_date'])\n",
    "    _fill_na_mean(df, 'avg_rating_of_driver')\n",
    "    _fill_na_mean(df, 'avg_rating_by_driver')\n",
    "    df.dropna(axis=0, inplace=True)\n",
    "    df['last_trip_date'] = pd.to_datetime(df['last_trip_date'])\n",
    "    df = _create_indicator(df, 'churn',  df['last_trip_date'] < '2014-06-01')\n",
    "    df = _create_indicator(df, 'phone', df['phone'] == 'iPhone')\n",
    "    df['luxury_car_user'] = df['luxury_car_user'] * 1\n",
    "    df = pd.get_dummies(df, columns=['city'], drop_first=False)\n",
    "\n",
    "    return df\n",
    "\n",
    "def create_variables(df):\n",
    "\n",
    "    X = df.drop(columns = ['signup_date', 'last_trip_date', 'churn'])\n",
    "    y = df['churn']\n",
    "\n",
    "    return X,y\n",
    "\n",
    "\n",
    "def _fill_na_mean(df, column):\n",
    "    df[column].fillna(df[column].mean(), inplace=True)\n",
    "\n",
    "\n",
    "def _create_indicator(df, column, condition):\n",
    "    df[column] = condition\n",
    "    df[column] = df[column] * 1\n",
    "    return df\n",
    "\n",
    "# def predict_model(X_train, y_train, X_test, model, trees = 100):\n",
    "#     if model == LogisticRegression:\n",
    "#         model = model(max_iter=1000)\n",
    "#     else:\n",
    "#         model = model(n_estimators = trees)\n",
    "#     model.fit(X_train, y_train)\n",
    "#     y_pred = model.predict(X_test)\n",
    "#     y_pred_probs = model.predict_proba(X_test)[:,1]\n",
    "#     return y_pred, y_pred_probs\n",
    "\n",
    "def print_metrics(y, y_pred):\n",
    "    print(\"Accuracy Score: \", accuracy_score(y, y_pred))\n",
    "    print(\"Confusion Matrix: \", confusion_matrix(y, y_pred, labels = [1,0]))\n",
    "    tn, fp, fn, tp = confusion_matrix(y, y_pred).ravel()\n",
    "    print(\"Precision Score: \", precision_score(y, y_pred))\n",
    "    print(\"Recall Score: \", recall_score(y, y_pred))\n",
    "    print(\"\")\n",
    "    return\n",
    "\n",
    "# ROC Curve\n",
    "def create_roc_curve(y_test,y_pred_probs1, y_pred_probs2, y_pred_probs3, model1, model2, model3):\n",
    "    fpr1, tpr1, _ = roc_curve(y_test, y_pred_probs1)\n",
    "    auc1 = roc_auc_score(y_test, y_pred_probs1)\n",
    "\n",
    "    fpr2, tpr2, _ = roc_curve(y_test, y_pred_probs2)\n",
    "    auc2 = roc_auc_score(y_test, y_pred_probs2)\n",
    "\n",
    "    fpr3, tpr3, _ = roc_curve(y_test, y_pred_probs3)\n",
    "    auc3 = roc_auc_score(y_test, y_pred_probs3)\n",
    "\n",
    "    plt.figure(1,figsize=(12,8))\n",
    "    plt.plot([0, 1], [0, 1], 'k--')\n",
    "    plt.plot(fpr1, tpr1, label=f'{model1} AUC={round(auc1,3)}')\n",
    "    plt.plot(fpr2, tpr2, label=f'{model2} AUC={round(auc2,3)}')\n",
    "    plt.plot(fpr3, tpr3, label=f'{model3} AUC={round(auc3,3)}')\n",
    "    plt.xlabel('False positive rate')\n",
    "    plt.ylabel('True positive rate')\n",
    "    plt.title('ROC curve')\n",
    "    plt.legend(loc='best')\n",
    "    plt.show()\n",
    "\n",
    "    return"
   ]
  },
  {
   "cell_type": "code",
   "execution_count": 8,
   "metadata": {},
   "outputs": [],
   "source": [
    "def predict_model(X_train, y_train, X_test, model, trees = 100):\n",
    "    if model == LogisticRegression:\n",
    "        model = model(max_iter=1000)\n",
    "    else:\n",
    "        model = model(n_estimators = trees)\n",
    "    model.fit(X_train, y_train)\n",
    "    y_pred = model.predict(X_test)\n",
    "    y_pred_probs = model.predict_proba(X_test)[:,1]\n",
    "    return y_pred, y_pred_probs, model"
   ]
  },
  {
   "cell_type": "code",
   "execution_count": null,
   "metadata": {},
   "outputs": [],
   "source": [
    "def create_feature_importance_chart(model):\n",
    "    feature_importance = model.feature_importances_\n",
    "    sorted_idx = np.argsort(feature_importance)\n",
    "    pos = np.arange(sorted_idx.shape[0]) + .5\n",
    "    fig = plt.figure(figsize=(12, 6))\n",
    "    plt.subplot(1, 2, 1)\n",
    "    plt.barh(pos, feature_importance[sorted_idx], align='center')\n",
    "    plt.yticks(pos, np.array(diabetes.feature_names)[sorted_idx])\n",
    "    plt.title('Feature Importance (MDI)')\n",
    "    plt.show()"
   ]
  },
  {
   "cell_type": "code",
   "execution_count": 9,
   "metadata": {},
   "outputs": [],
   "source": [
    "df0_train = pd.read_csv('../data/churn_train.csv')\n",
    "df0_test = pd.read_csv('../data/churn_test.csv')"
   ]
  },
  {
   "cell_type": "code",
   "execution_count": 10,
   "metadata": {},
   "outputs": [],
   "source": [
    "df_train = df0_train.copy()\n",
    "df_test = df0_test.copy()"
   ]
  },
  {
   "cell_type": "code",
   "execution_count": 11,
   "metadata": {},
   "outputs": [],
   "source": [
    "df_final_train = run_data_pipeline(df_train)"
   ]
  },
  {
   "cell_type": "code",
   "execution_count": 12,
   "metadata": {},
   "outputs": [],
   "source": [
    "X_train, y_train = create_variables(df_final_train)"
   ]
  },
  {
   "cell_type": "code",
   "execution_count": 13,
   "metadata": {},
   "outputs": [],
   "source": [
    "df_final_test = run_data_pipeline(df_test)"
   ]
  },
  {
   "cell_type": "code",
   "execution_count": 14,
   "metadata": {},
   "outputs": [],
   "source": [
    "X_test, y_test = create_variables(df_final_test)"
   ]
  },
  {
   "cell_type": "code",
   "execution_count": null,
   "metadata": {},
   "outputs": [],
   "source": []
  },
  {
   "cell_type": "code",
   "execution_count": 15,
   "metadata": {},
   "outputs": [],
   "source": [
    "gbc = GradientBoostingClassifier(n_estimators = 100)"
   ]
  },
  {
   "cell_type": "code",
   "execution_count": 16,
   "metadata": {},
   "outputs": [
    {
     "data": {
      "text/plain": [
       "GradientBoostingClassifier()"
      ]
     },
     "execution_count": 16,
     "metadata": {},
     "output_type": "execute_result"
    }
   ],
   "source": [
    "gbc.fit(X_train, y_train)"
   ]
  },
  {
   "cell_type": "code",
   "execution_count": 17,
   "metadata": {},
   "outputs": [],
   "source": [
    "y_pred = gbc.predict(X_test)"
   ]
  },
  {
   "cell_type": "code",
   "execution_count": 18,
   "metadata": {},
   "outputs": [],
   "source": [
    "y_pred_proba = gbc.predict_proba(X_test)[:,1]"
   ]
  },
  {
   "cell_type": "code",
   "execution_count": 19,
   "metadata": {},
   "outputs": [],
   "source": [
    "feature_importance = gbc.feature_importances_"
   ]
  },
  {
   "cell_type": "code",
   "execution_count": 20,
   "metadata": {
    "scrolled": true
   },
   "outputs": [
    {
     "name": "stdout",
     "output_type": "stream",
     "text": [
      "[1.67891162e-02 2.38795824e-01 1.17104930e-02 4.31578397e-03\n",
      " 8.98019031e-02 1.87319895e-01 4.12660451e-02 7.08944132e-02\n",
      " 1.52771129e-01 2.79927550e-02 1.58337243e-01 5.39978515e-06]\n"
     ]
    }
   ],
   "source": [
    "print(feature_importance)"
   ]
  },
  {
   "cell_type": "code",
   "execution_count": null,
   "metadata": {},
   "outputs": [],
   "source": [
    "df = pd.DataFrame(data=feature_importance, index=X_train.columns, columns=[\"importance\"])"
   ]
  },
  {
   "cell_type": "code",
   "execution_count": null,
   "metadata": {},
   "outputs": [],
   "source": [
    "print(df)"
   ]
  },
  {
   "cell_type": "code",
   "execution_count": null,
   "metadata": {},
   "outputs": [],
   "source": [
    "X_test.info()"
   ]
  },
  {
   "cell_type": "code",
   "execution_count": 21,
   "metadata": {},
   "outputs": [],
   "source": [
    "sorted_idx = np.argsort(feature_importance)"
   ]
  },
  {
   "cell_type": "code",
   "execution_count": 22,
   "metadata": {
    "scrolled": true
   },
   "outputs": [
    {
     "name": "stdout",
     "output_type": "stream",
     "text": [
      "[11  3  2  0  9  6  7  4  8 10  5  1]\n"
     ]
    }
   ],
   "source": [
    "print(sorted_idx)"
   ]
  },
  {
   "cell_type": "code",
   "execution_count": null,
   "metadata": {},
   "outputs": [],
   "source": [
    "pos = np.arange(sorted_idx.shape[0]) + .5\n",
    "fig = plt.figure(figsize=(12, 6))\n",
    "plt.subplot(1, 2, 1)\n",
    "plt.barh(pos, feature_importance[sorted_idx], align='center')"
   ]
  },
  {
   "cell_type": "code",
   "execution_count": null,
   "metadata": {},
   "outputs": [],
   "source": [
    "plt.yticks(pos, np.array(list(X_train.columns)[sorted_idx]))"
   ]
  },
  {
   "cell_type": "code",
   "execution_count": null,
   "metadata": {},
   "outputs": [],
   "source": [
    "list(X_train.columns)[sorted_idx]"
   ]
  },
  {
   "cell_type": "code",
   "execution_count": null,
   "metadata": {},
   "outputs": [],
   "source": [
    "np.array"
   ]
  },
  {
   "cell_type": "code",
   "execution_count": 26,
   "metadata": {},
   "outputs": [
    {
     "data": {
      "text/plain": [
       "array(['city_Winterfell', 'avg_surge', 'avg_rating_of_driver', 'avg_dist',\n",
       "       'city_Astapor', 'trips_in_first_30_days', 'luxury_car_user',\n",
       "       'phone', 'weekday_pct', \"city_King's Landing\", 'surge_pct',\n",
       "       'avg_rating_by_driver'], dtype=object)"
      ]
     },
     "execution_count": 26,
     "metadata": {},
     "output_type": "execute_result"
    }
   ],
   "source": [
    "np.array(X_train.columns)[sorted_idx]"
   ]
  },
  {
   "cell_type": "code",
   "execution_count": 28,
   "metadata": {},
   "outputs": [
    {
     "data": {
      "image/png": "[encoded data removed]",
      "text/plain": [
       "<Figure size 864x432 with 1 Axes>"
      ]
     },
     "metadata": {
      "needs_background": "light"
     },
     "output_type": "display_data"
    }
   ],
   "source": [
    "pos = np.arange(sorted_idx.shape[0]) + .5\n",
    "fig = plt.figure(figsize=(12, 6))\n",
    "plt.subplot(1, 2, 1)\n",
    "plt.barh(pos, feature_importance[sorted_idx], align='center')\n",
    "plt.yticks(pos, np.array(list(X_train.columns))[sorted_idx])\n",
    "plt.title('Feature Importance (MDI)')\n",
    "plt.show()"
   ]
  },
  {
   "cell_type": "code",
   "execution_count": null,
   "metadata": {},
   "outputs": [],
   "source": []
  },
  {
   "cell_type": "code",
   "execution_count": 2,
   "metadata": {},
   "outputs": [],
   "source": [
    "from sklearn import datasets"
   ]
  },
  {
   "cell_type": "code",
   "execution_count": 3,
   "metadata": {},
   "outputs": [],
   "source": [
    "diabetes = datasets.load_diabetes()"
   ]
  },
  {
   "cell_type": "code",
   "execution_count": 5,
   "metadata": {},
   "outputs": [
    {
     "data": {
      "text/plain": [
       "['age', 'sex', 'bmi', 'bp', 's1', 's2', 's3', 's4', 's5', 's6']"
      ]
     },
     "execution_count": 5,
     "metadata": {},
     "output_type": "execute_result"
    }
   ],
   "source": [
    "diabetes.feature_names"
   ]
  },
  {
   "cell_type": "code",
   "execution_count": 6,
   "metadata": {},
   "outputs": [
    {
     "data": {
      "text/plain": [
       "list"
      ]
     },
     "execution_count": 6,
     "metadata": {},
     "output_type": "execute_result"
    }
   ],
   "source": [
    "diabetes.feature_names[]"
   ]
  },
  {
   "cell_type": "code",
   "execution_count": null,
   "metadata": {},
   "outputs": [],
   "source": []
  },
  {
   "cell_type": "code",
   "execution_count": null,
   "metadata": {},
   "outputs": [],
   "source": []
  },
  {
   "cell_type": "code",
   "execution_count": null,
   "metadata": {},
   "outputs": [],
   "source": []
  },
  {
   "cell_type": "code",
   "execution_count": null,
   "metadata": {},
   "outputs": [],
   "source": []
  },
  {
   "cell_type": "code",
   "execution_count": null,
   "metadata": {},
   "outputs": [],
   "source": []
  },
  {
   "cell_type": "code",
   "execution_count": null,
   "metadata": {},
   "outputs": [],
   "source": [
    "y_pred1, y_pred_proba1, lr_model = predict_model(X_train, y_train, X_test, LogisticRegression)\n",
    "y_pred2, y_pred_proba2, rfc_model  = predict_model(X_train, y_train, X_test, RandomForestClassifier)\n",
    "y_pred3, y_pred_proba3, gbc_model = predict_model(X_train, y_train, X_test, GradientBoostingClassifier)"
   ]
  },
  {
   "cell_type": "code",
   "execution_count": null,
   "metadata": {},
   "outputs": [],
   "source": []
  },
  {
   "cell_type": "code",
   "execution_count": null,
   "metadata": {},
   "outputs": [],
   "source": []
  },
  {
   "cell_type": "code",
   "execution_count": null,
   "metadata": {},
   "outputs": [],
   "source": []
  },
  {
   "cell_type": "code",
   "execution_count": null,
   "metadata": {},
   "outputs": [],
   "source": []
  },
  {
   "cell_type": "code",
   "execution_count": null,
   "metadata": {},
   "outputs": [],
   "source": []
  },
  {
   "cell_type": "code",
   "execution_count": null,
   "metadata": {
    "scrolled": true
   },
   "outputs": [],
   "source": [
    "print_metrics(y_test, y_pred1)\n",
    "print_metrics(y_test, y_pred2)\n",
    "print_metrics(y_test,y_pred3)\n",
    "create_roc_curve(y_test,y_pred_proba1, y_pred_proba2,y_pred_proba3,'LR','RF','GB')"
   ]
  },
  {
   "cell_type": "code",
   "execution_count": null,
   "metadata": {},
   "outputs": [],
   "source": []
  },
  {
   "cell_type": "code",
   "execution_count": null,
   "metadata": {},
   "outputs": [],
   "source": [
    "def create_feature_importance_chart(model):\n",
    "    feature_importance = model.feature_importances_\n",
    "    sorted_idx = np.argsort(feature_importance)\n",
    "    pos = np.arange(sorted_idx.shape[0]) + .5\n",
    "    fig = plt.figure(figsize=(12, 6))\n",
    "    plt.subplot(1, 2, 1)\n",
    "    plt.barh(pos, feature_importance[sorted_idx], align='center')\n",
    "    # plt.yticks(pos, np.array(diabetes.feature_names)[sorted_idx])\n",
    "    plt.title('Feature Importance (MDI)')\n",
    "\n",
    "    result = permutation_importance(reg, X_test, y_test, n_repeats=10,\n",
    "                                    random_state=42, n_jobs=2)\n",
    "    sorted_idx = result.importances_mean.argsort()\n",
    "    plt.subplot(1, 2, 2)\n",
    "    # plt.boxplot(result.importances[sorted_idx].T,\n",
    "    #             vert=False, labels=np.array(diabetes.feature_names)[sorted_idx])\n",
    "    plt.title(\"Permutation Importance (test set)\")\n",
    "    fig.tight_layout()\n",
    "    plt.show()"
   ]
  },
  {
   "cell_type": "code",
   "execution_count": null,
   "metadata": {},
   "outputs": [],
   "source": [
    "print(feat3)"
   ]
  },
  {
   "cell_type": "code",
   "execution_count": null,
   "metadata": {},
   "outputs": [],
   "source": []
  },
  {
   "cell_type": "code",
   "execution_count": null,
   "metadata": {},
   "outputs": [],
   "source": []
  },
  {
   "cell_type": "code",
   "execution_count": null,
   "metadata": {},
   "outputs": [],
   "source": []
  },
  {
   "cell_type": "code",
   "execution_count": null,
   "metadata": {},
   "outputs": [],
   "source": []
  },
  {
   "cell_type": "code",
   "execution_count": null,
   "metadata": {},
   "outputs": [],
   "source": []
  },
  {
   "cell_type": "code",
   "execution_count": null,
   "metadata": {},
   "outputs": [],
   "source": []
  },
  {
   "cell_type": "code",
   "execution_count": null,
   "metadata": {
    "scrolled": true
   },
   "outputs": [],
   "source": [
    "df.head(5).T"
   ]
  },
  {
   "cell_type": "code",
   "execution_count": null,
   "metadata": {
    "scrolled": true
   },
   "outputs": [],
   "source": [
    "df.head(5)"
   ]
  },
  {
   "cell_type": "code",
   "execution_count": null,
   "metadata": {},
   "outputs": [],
   "source": [
    "#new_df = df['last_trip_date'].sort_values(ascending = False)\n",
    "new = df.sort_values(by = ['last_trip_date'])"
   ]
  },
  {
   "cell_type": "code",
   "execution_count": null,
   "metadata": {},
   "outputs": [],
   "source": [
    "#new.info()\n",
    "new['avg_rating_of_driver'].fillna(new['avg_rating_of_driver'].mean(), inplace = True)\n",
    "new['avg_rating_by_driver'].fillna(new['avg_rating_by_driver'].mean(), inplace = True)"
   ]
  },
  {
   "cell_type": "code",
   "execution_count": null,
   "metadata": {},
   "outputs": [],
   "source": [
    "new.info()"
   ]
  },
  {
   "cell_type": "code",
   "execution_count": null,
   "metadata": {},
   "outputs": [],
   "source": [
    "new.dropna(axis = 0, inplace = True)"
   ]
  },
  {
   "cell_type": "code",
   "execution_count": null,
   "metadata": {},
   "outputs": [],
   "source": [
    "new.info()"
   ]
  },
  {
   "cell_type": "code",
   "execution_count": null,
   "metadata": {},
   "outputs": [],
   "source": [
    "df = new.copy()"
   ]
  },
  {
   "cell_type": "code",
   "execution_count": null,
   "metadata": {},
   "outputs": [],
   "source": [
    "df['last_trip_date'] = pd.to_datetime(df['last_trip_date'])"
   ]
  },
  {
   "cell_type": "code",
   "execution_count": null,
   "metadata": {},
   "outputs": [],
   "source": [
    "df['churn'] = df['last_trip_date'] < '2014-06-01'"
   ]
  },
  {
   "cell_type": "code",
   "execution_count": null,
   "metadata": {},
   "outputs": [],
   "source": [
    "df['churn'] = df['churn'] * 1\n",
    "df['phone'] = df['phone'] == 'iPhone'\n",
    "df['phone'] = df['phone'] * 1"
   ]
  },
  {
   "cell_type": "code",
   "execution_count": null,
   "metadata": {},
   "outputs": [],
   "source": [
    "df = pd.get_dummies(df, columns = ['city'], drop_first = False)"
   ]
  },
  {
   "cell_type": "code",
   "execution_count": null,
   "metadata": {},
   "outputs": [],
   "source": [
    "df['luxury_car_user'] = df['luxury_car_user'] * 1"
   ]
  },
  {
   "cell_type": "code",
   "execution_count": null,
   "metadata": {
    "scrolled": true
   },
   "outputs": [],
   "source": [
    "df.info()"
   ]
  },
  {
   "cell_type": "code",
   "execution_count": null,
   "metadata": {},
   "outputs": [],
   "source": [
    "df.head(10).T"
   ]
  },
  {
   "cell_type": "code",
   "execution_count": null,
   "metadata": {},
   "outputs": [],
   "source": [
    "df['phone'].unique()"
   ]
  },
  {
   "cell_type": "code",
   "execution_count": null,
   "metadata": {},
   "outputs": [],
   "source": [
    "df.head(5).T"
   ]
  },
  {
   "cell_type": "code",
   "execution_count": null,
   "metadata": {},
   "outputs": [],
   "source": [
    "\n",
    "X = df.drop(columns = ['signup_date','last_trip_date','churn'])\n"
   ]
  },
  {
   "cell_type": "code",
   "execution_count": null,
   "metadata": {},
   "outputs": [],
   "source": [
    "y = df['churn']"
   ]
  },
  {
   "cell_type": "code",
   "execution_count": null,
   "metadata": {},
   "outputs": [],
   "source": [
    "X_train = X"
   ]
  },
  {
   "cell_type": "code",
   "execution_count": null,
   "metadata": {},
   "outputs": [],
   "source": [
    "y_train = y"
   ]
  },
  {
   "cell_type": "code",
   "execution_count": null,
   "metadata": {
    "scrolled": false
   },
   "outputs": [],
   "source": [
    "log_model = LogisticRegression(max_iter = 1000)\n",
    "log_model.fit(X_train,y_train)"
   ]
  },
  {
   "cell_type": "code",
   "execution_count": null,
   "metadata": {},
   "outputs": [],
   "source": []
  },
  {
   "cell_type": "code",
   "execution_count": null,
   "metadata": {},
   "outputs": [],
   "source": [
    "y_pred = log_model.predict(X_test)"
   ]
  },
  {
   "cell_type": "code",
   "execution_count": null,
   "metadata": {},
   "outputs": [],
   "source": [
    "accuracy_score(y_test, y_pred)"
   ]
  },
  {
   "cell_type": "code",
   "execution_count": null,
   "metadata": {},
   "outputs": [],
   "source": [
    "confusion_matrix(y_test, y_pred, labels = [1,0])"
   ]
  },
  {
   "cell_type": "code",
   "execution_count": null,
   "metadata": {},
   "outputs": [],
   "source": [
    "tn, fp, fn, tp = confusion_matrix(y_test, y_pred).ravel()"
   ]
  },
  {
   "cell_type": "code",
   "execution_count": null,
   "metadata": {},
   "outputs": [],
   "source": [
    "(tn, fp, fn, tp)"
   ]
  },
  {
   "cell_type": "code",
   "execution_count": null,
   "metadata": {},
   "outputs": [],
   "source": [
    "con_matrix = np.array([[tp, fn], [fp, tn]])"
   ]
  },
  {
   "cell_type": "code",
   "execution_count": null,
   "metadata": {},
   "outputs": [],
   "source": [
    "con_matrix"
   ]
  },
  {
   "cell_type": "code",
   "execution_count": null,
   "metadata": {},
   "outputs": [],
   "source": [
    "log_model.coef_"
   ]
  },
  {
   "cell_type": "code",
   "execution_count": null,
   "metadata": {},
   "outputs": [],
   "source": [
    "coeff = log_model.coef_\n",
    "ind = (coeff**2).argsort()\n",
    "labels = [item for item in X.columns]"
   ]
  },
  {
   "cell_type": "code",
   "execution_count": null,
   "metadata": {},
   "outputs": [],
   "source": [
    "fig,ax = plt.subplots()\n",
    "plt.axhline(y=0,color='red')\n",
    "plt.plot(np.linspace(0, 11, 12), coeff.T)\n",
    "ax.set_xticklabels(labels)\n",
    "plt.xticks(np.linspace(0,11,12), rotation=90);"
   ]
  },
  {
   "cell_type": "code",
   "execution_count": null,
   "metadata": {},
   "outputs": [],
   "source": [
    "fig = plt.figure(figsize=(12,8))\n",
    "ax = fig.add_subplot()\n",
    "x = np.linspace(0, 11, 12)\n",
    "markerline, stemlines, baseline = plt.stem(x, coeff.T, '-.')\n",
    "plt.setp(baseline, color='r', linewidth=2)\n",
    "plt.xticks(np.linspace(0,11,12), labels,rotation=90)\n",
    "plt.xlabel('Features')\n",
    "plt.ylabel('Beta Coefficients')\n",
    "plt.title('Feature Impact')\n",
    "plt.grid(linestyle ='--',lw=0.5)\n",
    "plt.show()"
   ]
  },
  {
   "cell_type": "code",
   "execution_count": null,
   "metadata": {},
   "outputs": [],
   "source": [
    "print(classification_report(y, y_pred))"
   ]
  },
  {
   "cell_type": "code",
   "execution_count": null,
   "metadata": {},
   "outputs": [],
   "source": [
    "X_train, X_test, y_train, y_test = train_test_split(X, y, test_size = 0.25)\n",
    "\n",
    "rf_model = RandomForestClassifier()\n",
    "rf_model.fit(X_train, y_train)"
   ]
  },
  {
   "cell_type": "code",
   "execution_count": null,
   "metadata": {},
   "outputs": [],
   "source": [
    "rf_model.feature_importances_"
   ]
  },
  {
   "cell_type": "code",
   "execution_count": null,
   "metadata": {},
   "outputs": [],
   "source": [
    "y_pred = rf_model.predict(X_test)"
   ]
  },
  {
   "cell_type": "code",
   "execution_count": null,
   "metadata": {},
   "outputs": [],
   "source": [
    "# ROC Curve\n",
    "def create_ROC_curve_plot(y_test,y_pred_probs, model):\n",
    "    fpr, tpr, _ = roc_curve(y_test, y_pred_probs)\n",
    "    plt.figure(1)\n",
    "    plt.plot([0, 1], [0, 1], 'k--')\n",
    "    plt.plot(fpr, tpr, label=model)\n",
    "    plt.xlabel('False positive rate')\n",
    "    plt.ylabel('True positive rate')\n",
    "    plt.title('ROC curve')\n",
    "    plt.legend(loc='best')\n",
    "    plt.show()\n",
    "    return \n",
    "    "
   ]
  },
  {
   "cell_type": "code",
   "execution_count": null,
   "metadata": {},
   "outputs": [],
   "source": [
    "y_pred, y_pred_probs = model_pred(X_train, y_train, X_test, y_test, RandomForestClassifier)"
   ]
  },
  {
   "cell_type": "code",
   "execution_count": null,
   "metadata": {},
   "outputs": [],
   "source": [
    "y_pred_probs.shape"
   ]
  },
  {
   "cell_type": "code",
   "execution_count": null,
   "metadata": {},
   "outputs": [],
   "source": [
    "ROC_curve_plot(y_test,y_pred_probs, 'RF')"
   ]
  },
  {
   "cell_type": "code",
   "execution_count": null,
   "metadata": {},
   "outputs": [],
   "source": [
    "y_pred, y_pred_probs = model_pred(X_train, y_train, X_test, y_test, LogisticRegression)\n",
    "ROC_curve_plot(y_test,y_pred_probs, 'LR')"
   ]
  },
  {
   "cell_type": "code",
   "execution_count": null,
   "metadata": {},
   "outputs": [],
   "source": [
    "def ROC_curve_plots(y_test,y_pred_probs1, y_pred_probs2, y_pred_probs3, model1, model2, model3):\n",
    "    fpr1, tpr1, _ = roc_curve(y_test, y_pred_probs1)\n",
    "    auc1 = roc_auc_score(y_test, y_pred_probs1)\n",
    "    fpr2, tpr2, _ = roc_curve(y_test, y_pred_probs2)\n",
    "    auc2 = roc_auc_score(y_test, y_pred_probs2)\n",
    "    fpr3, tpr3, _ = roc_curve(y_test, y_pred_probs3)\n",
    "    auc3 = roc_auc_score(y_test, y_pred_probs3) \n",
    "    plt.figure(1,figsize=(12,8))\n",
    "    plt.plot([0, 1], [0, 1], 'k--')\n",
    "    plt.plot(fpr1, tpr1, label=f'{model1} AUC={round(auc1,3)}')\n",
    "    plt.plot(fpr2, tpr2, label=f'{model2} AUC={round(auc2,3)}')\n",
    "    plt.plot(fpr3, tpr3, label=f'{model3} AUC={round(auc3,3)}')\n",
    "    plt.xlabel('False positive rate')\n",
    "    plt.ylabel('True positive rate')\n",
    "    plt.title('ROC curve')\n",
    "    plt.legend(loc='best')\n",
    "    plt.show()\n",
    "    return "
   ]
  },
  {
   "cell_type": "code",
   "execution_count": null,
   "metadata": {},
   "outputs": [],
   "source": [
    "y_pred1, y_pred_probs1 = model_pred(X_train, y_train, X_test, y_test, LogisticRegression)\n",
    "y_pred2, y_pred_probs2 = model_pred(X_train, y_train, X_test, y_test, RandomForestClassifier)\n",
    "y_pred3, y_pred_probs3 = model_pred(X_train, y_train, X_test, y_test, GradientBoostingClassifier)"
   ]
  },
  {
   "cell_type": "code",
   "execution_count": null,
   "metadata": {},
   "outputs": [],
   "source": [
    "ROC_curve_plots(y_test,y_pred_probs1, y_pred_probs2,y_pred_probs3, 'LR', 'RF','GB')"
   ]
  },
  {
   "cell_type": "code",
   "execution_count": null,
   "metadata": {},
   "outputs": [],
   "source": [
    "cost_benefit = np.array([[0, 0], [-0.7, 0.3]]).T\n",
    "def profit_curve(cost_benefit, predicted_probs, y_test):\n",
    "    \"\"\"Function to calculate list of profits based on supplied cost-benefit\n",
    "    matrix and prediced probabilities of data points and thier true labels.\n",
    "    Parameters\n",
    "    ----------\n",
    "    cost_benefit    : ndarray - 2D, with profit values corresponding to:\n",
    "                                          -----------\n",
    "                                          | TP | FP |\n",
    "                                          -----------\n",
    "                                          | FN | TN |\n",
    "                                          -----------\n",
    "    predicted_probs : ndarray - 1D, predicted probability for each datapoint\n",
    "                                    in labels, in range [0, 1]\n",
    "    labels          : ndarray - 1D, true label of datapoints, 0 or 1\n",
    "    Returns\n",
    "    -------\n",
    "    profits    : ndarray - 1D\n",
    "    thresholds : ndarray - 1D\n",
    "    \"\"\"\n",
    "    n_obs = float(len(y_test))\n",
    "    # Make sure that 1 is going to be one of our thresholds\n",
    "    maybe_one = [] if 1 in predicted_probs else [1] \n",
    "    all_thresholds = maybe_one + sorted(predicted_probs, reverse=True)\n",
    "    thresholds = all_thresholds[::50]\n",
    "    profits = []\n",
    "    for threshold in thresholds:\n",
    "        y_predict = predicted_probs >= threshold\n",
    "        confusion_matrix_ = confusion_matrix(y_test, y_predict, labels = [1,0])\n",
    "        threshold_profit = np.sum(confusion_matrix_ * cost_benefit) / n_obs\n",
    "        profits.append(threshold_profit)\n",
    "    return np.array(profits), np.array(thresholds)"
   ]
  },
  {
   "cell_type": "code",
   "execution_count": null,
   "metadata": {},
   "outputs": [],
   "source": [
    "\n",
    "def get_model_profits(model, cost_benefit, X_train, X_test, y_train, y_test):\n",
    "    \"\"\"Fits passed model on training data and calculates profit from cost-benefit\n",
    "    matrix at each probability threshold.\n",
    "    Parameters\n",
    "    ----------\n",
    "    model           : sklearn model - need to implement fit and predict\n",
    "    cost_benefit    : ndarray - 2D, with profit values corresponding to:\n",
    "                                          -----------\n",
    "                                          | TP | FP |\n",
    "                                          -----------\n",
    "                                          | FN | TN |\n",
    "                                          -----------\n",
    "    X_train         : ndarray - 2D\n",
    "    X_test          : ndarray - 2D\n",
    "    y_train         : ndarray - 1D\n",
    "    y_test          : ndarray - 1D\n",
    "    Returns\n",
    "    -------\n",
    "    model_profits : model, profits, thresholds\n",
    "    \"\"\"\n",
    "    model.fit(X_train, y_train)\n",
    "    predicted_probs = model.predict_proba(X_test)[:, 1]\n",
    "    profits, thresholds = profit_curve(cost_benefit, predicted_probs, y_test)\n",
    "\n",
    "    return profits, thresholds"
   ]
  },
  {
   "cell_type": "code",
   "execution_count": null,
   "metadata": {},
   "outputs": [],
   "source": [
    "profs, thrs = profit_curve(cost_benefit, y_pred_probs3, y_test)"
   ]
  },
  {
   "cell_type": "code",
   "execution_count": null,
   "metadata": {},
   "outputs": [],
   "source": [
    "max_thr = thrs[np.argmax(profs)]\n",
    "max_thr"
   ]
  },
  {
   "cell_type": "code",
   "execution_count": null,
   "metadata": {},
   "outputs": [],
   "source": [
    "max_profs = np.max(profs)\n"
   ]
  },
  {
   "cell_type": "code",
   "execution_count": null,
   "metadata": {},
   "outputs": [],
   "source": [
    "max_profs"
   ]
  },
  {
   "cell_type": "code",
   "execution_count": null,
   "metadata": {},
   "outputs": [],
   "source": [
    "new_model = GradientBoostingClassifier()\n",
    "new_model.fit(X_train, y_train)\n",
    "#print(\" done.\")\n",
    "\n",
    "#print('Convenience plot with ``partial_dependence_plots``')\n",
    "\n",
    "features = [4,7,9,10]\n",
    "fig, axs = plot_partial_dependence(new_model, X_train, features,figsize = (10, 10), \n",
    "                                   feature_names= [item for item in X.columns],\n",
    "                                   n_jobs=3, grid_resolution=50)\n",
    "fig.suptitle('Partial dependence plots')\n",
    "plt.subplots_adjust(top=0.9, bottom = 0.2, wspace = 0.5)  # tight_layout causes overlap with suptitle\n",
    "\n",
    "#print('Custom 3d plot via ``partial_dependence``')\n",
    "#fig = plt.figure()\n"
   ]
  },
  {
   "cell_type": "code",
   "execution_count": null,
   "metadata": {},
   "outputs": [],
   "source": []
  }
 ],
 "metadata": {
  "kernelspec": {
   "display_name": "Python 3",
   "language": "python",
   "name": "python3"
  },
  "language_info": {
   "codemirror_mode": {
    "name": "ipython",
    "version": 3
   },
   "file_extension": ".py",
   "mimetype": "text/x-python",
   "name": "python",
   "nbconvert_exporter": "python",
   "pygments_lexer": "ipython3",
   "version": "3.9.0"
  }
 },
 "nbformat": 4,
 "nbformat_minor": 2
}
