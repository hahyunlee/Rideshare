{
 "cells": [
  {
   "cell_type": "code",
   "execution_count": 6,
   "metadata": {
    "scrolled": true
   },
   "outputs": [
    {
     "name": "stdout",
     "output_type": "stream",
     "text": [
      "Collecting sklearn\n",
      "  Using cached sklearn-0.0.tar.gz (1.1 kB)\n",
      "Collecting scikit-learn\n",
      "  Downloading scikit-learn-0.23.2.tar.gz (7.2 MB)\n",
      "\u001b[K     |████████████████████████████████| 7.2 MB 3.9 MB/s eta 0:00:01\n",
      "\u001b[?25h  Installing build dependencies ... \u001b[?25ldone\n",
      "\u001b[?25h  Getting requirements to build wheel ... \u001b[?25ldone\n",
      "\u001b[?25h    Preparing wheel metadata ... \u001b[?25ldone\n",
      "\u001b[?25hRequirement already satisfied: numpy>=1.13.3 in /usr/local/lib/python3.9/site-packages (from scikit-learn->sklearn) (1.19.4)\n",
      "Requirement already satisfied: scipy>=0.19.1 in /usr/local/lib/python3.9/site-packages (from scikit-learn->sklearn) (1.5.4)\n",
      "Collecting threadpoolctl>=2.0.0\n",
      "  Downloading threadpoolctl-2.1.0-py3-none-any.whl (12 kB)\n",
      "Collecting joblib>=0.11\n",
      "  Downloading joblib-0.17.0-py3-none-any.whl (301 kB)\n",
      "\u001b[K     |████████████████████████████████| 301 kB 6.5 MB/s eta 0:00:01\n",
      "\u001b[?25hBuilding wheels for collected packages: sklearn, scikit-learn\n",
      "  Building wheel for sklearn (setup.py) ... \u001b[?25ldone\n",
      "\u001b[?25h  Created wheel for sklearn: filename=sklearn-0.0-py2.py3-none-any.whl size=1316 sha256=ccf04da513afb315530718f46ce2c1856572755ef624433887801af420e8dbd5\n",
      "  Stored in directory: /Users/jl1000260404/Library/Caches/pip/wheels/e4/7b/98/b6466d71b8d738a0c547008b9eb39bf8676d1ff6ca4b22af1c\n",
      "  Building wheel for scikit-learn (PEP 517) ... \u001b[?25ldone\n",
      "\u001b[?25h  Created wheel for scikit-learn: filename=scikit_learn-0.23.2-cp39-cp39-macosx_10_15_x86_64.whl size=7020998 sha256=e3f5463473a0e736bb2a606842e002e6536ed06f23f42eacddf04669b836e7ae\n",
      "  Stored in directory: /Users/jl1000260404/Library/Caches/pip/wheels/5e/74/24/7e235ccf01765c0daa089c98cc823e9dc1383da5fe0ed7e224\n",
      "Successfully built sklearn scikit-learn\n",
      "Installing collected packages: threadpoolctl, joblib, scikit-learn, sklearn\n",
      "Successfully installed joblib-0.17.0 scikit-learn-0.23.2 sklearn-0.0 threadpoolctl-2.1.0\n",
      "Note: you may need to restart the kernel to use updated packages.\n"
     ]
    }
   ],
   "source": [
    "pip install sklearn"
   ]
  },
  {
   "cell_type": "code",
   "execution_count": 5,
   "metadata": {},
   "outputs": [
    {
     "name": "stdout",
     "output_type": "stream",
     "text": [
      "Collecting matplotlib\n",
      "  Downloading matplotlib-3.3.2.tar.gz (37.9 MB)\n",
      "\u001b[K     |████████████████████████████████| 37.9 MB 3.8 MB/s eta 0:00:011   |█▌                              | 1.8 MB 315 kB/s eta 0:01:55\n",
      "\u001b[?25hCollecting certifi>=2020.06.20\n",
      "  Using cached certifi-2020.11.8-py2.py3-none-any.whl (155 kB)\n",
      "Collecting cycler>=0.10\n",
      "  Downloading cycler-0.10.0-py2.py3-none-any.whl (6.5 kB)\n",
      "Collecting kiwisolver>=1.0.1\n",
      "  Downloading kiwisolver-1.3.1-cp39-cp39-macosx_10_9_x86_64.whl (61 kB)\n",
      "\u001b[K     |████████████████████████████████| 61 kB 778 kB/s eta 0:00:011\n",
      "\u001b[?25hRequirement already satisfied: numpy>=1.15 in /usr/local/lib/python3.9/site-packages (from matplotlib) (1.19.4)\n",
      "Collecting pillow>=6.2.0\n",
      "  Downloading Pillow-8.0.1-cp39-cp39-macosx_10_10_x86_64.whl (2.2 MB)\n",
      "\u001b[K     |████████████████████████████████| 2.2 MB 3.4 MB/s eta 0:00:01\n",
      "\u001b[?25hRequirement already satisfied: pyparsing!=2.0.4,!=2.1.2,!=2.1.6,>=2.0.3 in /usr/local/lib/python3.9/site-packages (from matplotlib) (2.4.7)\n",
      "Requirement already satisfied: python-dateutil>=2.1 in /usr/local/lib/python3.9/site-packages (from matplotlib) (2.8.1)\n",
      "Requirement already satisfied: six in /usr/local/lib/python3.9/site-packages (from cycler>=0.10->matplotlib) (1.15.0)\n",
      "Building wheels for collected packages: matplotlib\n",
      "  Building wheel for matplotlib (setup.py) ... \u001b[?25ldone\n",
      "\u001b[?25h  Created wheel for matplotlib: filename=matplotlib-3.3.2-cp39-cp39-macosx_10_15_x86_64.whl size=8475486 sha256=01b1ebac74f8a5d95e52599fec18de3c6863a92503aa2db3b43d0d1998a5bf28\n",
      "  Stored in directory: /Users/jl1000260404/Library/Caches/pip/wheels/a6/65/5d/e2634e905fc0a7d4486dfc5acd9e68b48aae52634d82c5ed69\n",
      "Successfully built matplotlib\n",
      "Installing collected packages: certifi, cycler, kiwisolver, pillow, matplotlib\n",
      "Successfully installed certifi-2020.11.8 cycler-0.10.0 kiwisolver-1.3.1 matplotlib-3.3.2 pillow-8.0.1\n",
      "Note: you may need to restart the kernel to use updated packages.\n"
     ]
    }
   ],
   "source": [
    "pip install matplotlib"
   ]
  },
  {
   "cell_type": "code",
   "execution_count": 152,
   "metadata": {},
   "outputs": [],
   "source": [
    "import pandas as pd\n",
    "import numpy as np\n",
    "import scipy as sc\n",
    "from sklearn.linear_model import LogisticRegression, LinearRegression\n",
    "import matplotlib.pyplot as plt\n",
    "from mpl_toolkits.mplot3d import Axes3D\n",
    "from datetime import datetime\n",
    "from sklearn.metrics import *\n",
    "from sklearn.ensemble import *\n",
    "from sklearn.model_selection import train_test_split\n",
    "from sklearn.ensemble.partial_dependence import plot_partial_dependence"
   ]
  },
  {
   "cell_type": "code",
   "execution_count": 1,
   "metadata": {
    "scrolled": false
   },
   "outputs": [],
   "source": [
    "import pandas as pd"
   ]
  },
  {
   "cell_type": "code",
   "execution_count": 2,
   "metadata": {},
   "outputs": [],
   "source": [
    "df = pd.read_csv('./data/churn_train.csv')"
   ]
  },
  {
   "cell_type": "code",
   "execution_count": 3,
   "metadata": {},
   "outputs": [
    {
     "data": {
      "text/html": [
       "<div>\n",
       "<style scoped>\n",
       "    .dataframe tbody tr th:only-of-type {\n",
       "        vertical-align: middle;\n",
       "    }\n",
       "\n",
       "    .dataframe tbody tr th {\n",
       "        vertical-align: top;\n",
       "    }\n",
       "\n",
       "    .dataframe thead th {\n",
       "        text-align: right;\n",
       "    }\n",
       "</style>\n",
       "<table border=\"1\" class=\"dataframe\">\n",
       "  <thead>\n",
       "    <tr style=\"text-align: right;\">\n",
       "      <th></th>\n",
       "      <th>0</th>\n",
       "      <th>1</th>\n",
       "      <th>2</th>\n",
       "      <th>3</th>\n",
       "      <th>4</th>\n",
       "    </tr>\n",
       "  </thead>\n",
       "  <tbody>\n",
       "    <tr>\n",
       "      <th>avg_dist</th>\n",
       "      <td>6.94</td>\n",
       "      <td>8.06</td>\n",
       "      <td>21.5</td>\n",
       "      <td>9.46</td>\n",
       "      <td>13.77</td>\n",
       "    </tr>\n",
       "    <tr>\n",
       "      <th>avg_rating_by_driver</th>\n",
       "      <td>5</td>\n",
       "      <td>5</td>\n",
       "      <td>4</td>\n",
       "      <td>5</td>\n",
       "      <td>5</td>\n",
       "    </tr>\n",
       "    <tr>\n",
       "      <th>avg_rating_of_driver</th>\n",
       "      <td>5</td>\n",
       "      <td>5</td>\n",
       "      <td>NaN</td>\n",
       "      <td>NaN</td>\n",
       "      <td>NaN</td>\n",
       "    </tr>\n",
       "    <tr>\n",
       "      <th>avg_surge</th>\n",
       "      <td>1</td>\n",
       "      <td>1</td>\n",
       "      <td>1</td>\n",
       "      <td>2.75</td>\n",
       "      <td>1</td>\n",
       "    </tr>\n",
       "    <tr>\n",
       "      <th>city</th>\n",
       "      <td>Astapor</td>\n",
       "      <td>Astapor</td>\n",
       "      <td>Winterfell</td>\n",
       "      <td>Winterfell</td>\n",
       "      <td>Winterfell</td>\n",
       "    </tr>\n",
       "    <tr>\n",
       "      <th>last_trip_date</th>\n",
       "      <td>2014-05-03</td>\n",
       "      <td>2014-01-26</td>\n",
       "      <td>2014-05-21</td>\n",
       "      <td>2014-01-10</td>\n",
       "      <td>2014-05-13</td>\n",
       "    </tr>\n",
       "    <tr>\n",
       "      <th>phone</th>\n",
       "      <td>Android</td>\n",
       "      <td>Android</td>\n",
       "      <td>iPhone</td>\n",
       "      <td>Android</td>\n",
       "      <td>iPhone</td>\n",
       "    </tr>\n",
       "    <tr>\n",
       "      <th>signup_date</th>\n",
       "      <td>2014-01-12</td>\n",
       "      <td>2014-01-25</td>\n",
       "      <td>2014-01-02</td>\n",
       "      <td>2014-01-09</td>\n",
       "      <td>2014-01-31</td>\n",
       "    </tr>\n",
       "    <tr>\n",
       "      <th>surge_pct</th>\n",
       "      <td>0</td>\n",
       "      <td>0</td>\n",
       "      <td>0</td>\n",
       "      <td>100</td>\n",
       "      <td>0</td>\n",
       "    </tr>\n",
       "    <tr>\n",
       "      <th>trips_in_first_30_days</th>\n",
       "      <td>0</td>\n",
       "      <td>2</td>\n",
       "      <td>1</td>\n",
       "      <td>1</td>\n",
       "      <td>0</td>\n",
       "    </tr>\n",
       "    <tr>\n",
       "      <th>luxury_car_user</th>\n",
       "      <td>False</td>\n",
       "      <td>True</td>\n",
       "      <td>True</td>\n",
       "      <td>False</td>\n",
       "      <td>False</td>\n",
       "    </tr>\n",
       "    <tr>\n",
       "      <th>weekday_pct</th>\n",
       "      <td>100</td>\n",
       "      <td>0</td>\n",
       "      <td>100</td>\n",
       "      <td>100</td>\n",
       "      <td>100</td>\n",
       "    </tr>\n",
       "  </tbody>\n",
       "</table>\n",
       "</div>"
      ],
      "text/plain": [
       "                                 0           1           2           3  \\\n",
       "avg_dist                      6.94        8.06        21.5        9.46   \n",
       "avg_rating_by_driver             5           5           4           5   \n",
       "avg_rating_of_driver             5           5         NaN         NaN   \n",
       "avg_surge                        1           1           1        2.75   \n",
       "city                       Astapor     Astapor  Winterfell  Winterfell   \n",
       "last_trip_date          2014-05-03  2014-01-26  2014-05-21  2014-01-10   \n",
       "phone                      Android     Android      iPhone     Android   \n",
       "signup_date             2014-01-12  2014-01-25  2014-01-02  2014-01-09   \n",
       "surge_pct                        0           0           0         100   \n",
       "trips_in_first_30_days           0           2           1           1   \n",
       "luxury_car_user              False        True        True       False   \n",
       "weekday_pct                    100           0         100         100   \n",
       "\n",
       "                                 4  \n",
       "avg_dist                     13.77  \n",
       "avg_rating_by_driver             5  \n",
       "avg_rating_of_driver           NaN  \n",
       "avg_surge                        1  \n",
       "city                    Winterfell  \n",
       "last_trip_date          2014-05-13  \n",
       "phone                       iPhone  \n",
       "signup_date             2014-01-31  \n",
       "surge_pct                        0  \n",
       "trips_in_first_30_days           0  \n",
       "luxury_car_user              False  \n",
       "weekday_pct                    100  "
      ]
     },
     "execution_count": 3,
     "metadata": {},
     "output_type": "execute_result"
    }
   ],
   "source": [
    "df.head(5).T"
   ]
  },
  {
   "cell_type": "code",
   "execution_count": 4,
   "metadata": {},
   "outputs": [],
   "source": [
    "#new_df = df['last_trip_date'].sort_values(ascending = False)\n",
    "new = df.sort_values(by = ['last_trip_date'])"
   ]
  },
  {
   "cell_type": "code",
   "execution_count": 5,
   "metadata": {},
   "outputs": [],
   "source": [
    "# today = '2014-07-01'\n",
    "# new['y_label'] = new['last_trip_date'] - today"
   ]
  },
  {
   "cell_type": "code",
   "execution_count": 6,
   "metadata": {},
   "outputs": [],
   "source": [
    "#new.info()\n",
    "new['avg_rating_of_driver'].fillna(new['avg_rating_of_driver'].mean(), inplace = True)\n",
    "new['avg_rating_by_driver'].fillna(new['avg_rating_by_driver'].mean(), inplace = True)"
   ]
  },
  {
   "cell_type": "code",
   "execution_count": 7,
   "metadata": {},
   "outputs": [
    {
     "name": "stdout",
     "output_type": "stream",
     "text": [
      "<class 'pandas.core.frame.DataFrame'>\n",
      "Int64Index: 40000 entries, 38107 to 9803\n",
      "Data columns (total 12 columns):\n",
      "avg_dist                  40000 non-null float64\n",
      "avg_rating_by_driver      40000 non-null float64\n",
      "avg_rating_of_driver      40000 non-null float64\n",
      "avg_surge                 40000 non-null float64\n",
      "city                      40000 non-null object\n",
      "last_trip_date            40000 non-null object\n",
      "phone                     39681 non-null object\n",
      "signup_date               40000 non-null object\n",
      "surge_pct                 40000 non-null float64\n",
      "trips_in_first_30_days    40000 non-null int64\n",
      "luxury_car_user           40000 non-null bool\n",
      "weekday_pct               40000 non-null float64\n",
      "dtypes: bool(1), float64(6), int64(1), object(4)\n",
      "memory usage: 3.7+ MB\n"
     ]
    }
   ],
   "source": [
    "new.info()"
   ]
  },
  {
   "cell_type": "code",
   "execution_count": 8,
   "metadata": {},
   "outputs": [],
   "source": [
    "new.dropna(axis = 0, inplace = True)"
   ]
  },
  {
   "cell_type": "code",
   "execution_count": 9,
   "metadata": {},
   "outputs": [
    {
     "name": "stdout",
     "output_type": "stream",
     "text": [
      "<class 'pandas.core.frame.DataFrame'>\n",
      "Int64Index: 39681 entries, 38107 to 9803\n",
      "Data columns (total 12 columns):\n",
      "avg_dist                  39681 non-null float64\n",
      "avg_rating_by_driver      39681 non-null float64\n",
      "avg_rating_of_driver      39681 non-null float64\n",
      "avg_surge                 39681 non-null float64\n",
      "city                      39681 non-null object\n",
      "last_trip_date            39681 non-null object\n",
      "phone                     39681 non-null object\n",
      "signup_date               39681 non-null object\n",
      "surge_pct                 39681 non-null float64\n",
      "trips_in_first_30_days    39681 non-null int64\n",
      "luxury_car_user           39681 non-null bool\n",
      "weekday_pct               39681 non-null float64\n",
      "dtypes: bool(1), float64(6), int64(1), object(4)\n",
      "memory usage: 3.7+ MB\n"
     ]
    }
   ],
   "source": [
    "new.info()"
   ]
  },
  {
   "cell_type": "code",
   "execution_count": 10,
   "metadata": {},
   "outputs": [],
   "source": [
    "df = new.copy()"
   ]
  },
  {
   "cell_type": "code",
   "execution_count": 11,
   "metadata": {},
   "outputs": [],
   "source": [
    "df['last_trip_date'] = pd.to_datetime(df['last_trip_date'])"
   ]
  },
  {
   "cell_type": "code",
   "execution_count": 12,
   "metadata": {},
   "outputs": [],
   "source": [
    "df['churn'] = df['last_trip_date'] < '2014-06-01'"
   ]
  },
  {
   "cell_type": "code",
   "execution_count": 13,
   "metadata": {},
   "outputs": [],
   "source": [
    "df['churn'] = df['churn'] * 1\n",
    "df['phone'] = df['phone'] == 'iPhone'\n",
    "df['phone'] = df['phone'] * 1\n"
   ]
  },
  {
   "cell_type": "code",
   "execution_count": 14,
   "metadata": {},
   "outputs": [],
   "source": [
    "df = pd.get_dummies(df, columns = ['city'], drop_first = False)"
   ]
  },
  {
   "cell_type": "code",
   "execution_count": 15,
   "metadata": {},
   "outputs": [],
   "source": [
    "df['luxury_car_user'] = df['luxury_car_user'] * 1"
   ]
  },
  {
   "cell_type": "code",
   "execution_count": 16,
   "metadata": {},
   "outputs": [
    {
     "data": {
      "text/plain": [
       "array([1, 0])"
      ]
     },
     "execution_count": 16,
     "metadata": {},
     "output_type": "execute_result"
    }
   ],
   "source": [
    "df['phone'].unique()"
   ]
  },
  {
   "cell_type": "code",
   "execution_count": 17,
   "metadata": {},
   "outputs": [
    {
     "data": {
      "text/html": [
       "<div>\n",
       "<style scoped>\n",
       "    .dataframe tbody tr th:only-of-type {\n",
       "        vertical-align: middle;\n",
       "    }\n",
       "\n",
       "    .dataframe tbody tr th {\n",
       "        vertical-align: top;\n",
       "    }\n",
       "\n",
       "    .dataframe thead th {\n",
       "        text-align: right;\n",
       "    }\n",
       "</style>\n",
       "<table border=\"1\" class=\"dataframe\">\n",
       "  <thead>\n",
       "    <tr style=\"text-align: right;\">\n",
       "      <th></th>\n",
       "      <th>38107</th>\n",
       "      <th>35244</th>\n",
       "      <th>1449</th>\n",
       "      <th>9287</th>\n",
       "      <th>7168</th>\n",
       "    </tr>\n",
       "  </thead>\n",
       "  <tbody>\n",
       "    <tr>\n",
       "      <th>avg_dist</th>\n",
       "      <td>13.75</td>\n",
       "      <td>3.59</td>\n",
       "      <td>2.45</td>\n",
       "      <td>4.45</td>\n",
       "      <td>18.36</td>\n",
       "    </tr>\n",
       "    <tr>\n",
       "      <th>avg_rating_by_driver</th>\n",
       "      <td>5</td>\n",
       "      <td>5</td>\n",
       "      <td>5</td>\n",
       "      <td>5</td>\n",
       "      <td>5</td>\n",
       "    </tr>\n",
       "    <tr>\n",
       "      <th>avg_rating_of_driver</th>\n",
       "      <td>5</td>\n",
       "      <td>4.6017</td>\n",
       "      <td>5</td>\n",
       "      <td>2</td>\n",
       "      <td>4</td>\n",
       "    </tr>\n",
       "    <tr>\n",
       "      <th>avg_surge</th>\n",
       "      <td>1</td>\n",
       "      <td>1</td>\n",
       "      <td>1.25</td>\n",
       "      <td>1</td>\n",
       "      <td>1</td>\n",
       "    </tr>\n",
       "    <tr>\n",
       "      <th>last_trip_date</th>\n",
       "      <td>2014-01-01 00:00:00</td>\n",
       "      <td>2014-01-01 00:00:00</td>\n",
       "      <td>2014-01-01 00:00:00</td>\n",
       "      <td>2014-01-01 00:00:00</td>\n",
       "      <td>2014-01-01 00:00:00</td>\n",
       "    </tr>\n",
       "    <tr>\n",
       "      <th>phone</th>\n",
       "      <td>1</td>\n",
       "      <td>1</td>\n",
       "      <td>1</td>\n",
       "      <td>1</td>\n",
       "      <td>0</td>\n",
       "    </tr>\n",
       "    <tr>\n",
       "      <th>signup_date</th>\n",
       "      <td>2014-01-01</td>\n",
       "      <td>2014-01-01</td>\n",
       "      <td>2014-01-01</td>\n",
       "      <td>2014-01-01</td>\n",
       "      <td>2014-01-01</td>\n",
       "    </tr>\n",
       "    <tr>\n",
       "      <th>surge_pct</th>\n",
       "      <td>0</td>\n",
       "      <td>0</td>\n",
       "      <td>100</td>\n",
       "      <td>0</td>\n",
       "      <td>0</td>\n",
       "    </tr>\n",
       "    <tr>\n",
       "      <th>trips_in_first_30_days</th>\n",
       "      <td>2</td>\n",
       "      <td>1</td>\n",
       "      <td>1</td>\n",
       "      <td>1</td>\n",
       "      <td>1</td>\n",
       "    </tr>\n",
       "    <tr>\n",
       "      <th>luxury_car_user</th>\n",
       "      <td>0</td>\n",
       "      <td>1</td>\n",
       "      <td>0</td>\n",
       "      <td>0</td>\n",
       "      <td>0</td>\n",
       "    </tr>\n",
       "    <tr>\n",
       "      <th>weekday_pct</th>\n",
       "      <td>100</td>\n",
       "      <td>100</td>\n",
       "      <td>100</td>\n",
       "      <td>100</td>\n",
       "      <td>100</td>\n",
       "    </tr>\n",
       "    <tr>\n",
       "      <th>churn</th>\n",
       "      <td>1</td>\n",
       "      <td>1</td>\n",
       "      <td>1</td>\n",
       "      <td>1</td>\n",
       "      <td>1</td>\n",
       "    </tr>\n",
       "    <tr>\n",
       "      <th>city_Astapor</th>\n",
       "      <td>0</td>\n",
       "      <td>0</td>\n",
       "      <td>1</td>\n",
       "      <td>0</td>\n",
       "      <td>0</td>\n",
       "    </tr>\n",
       "    <tr>\n",
       "      <th>city_King's Landing</th>\n",
       "      <td>0</td>\n",
       "      <td>0</td>\n",
       "      <td>0</td>\n",
       "      <td>0</td>\n",
       "      <td>0</td>\n",
       "    </tr>\n",
       "    <tr>\n",
       "      <th>city_Winterfell</th>\n",
       "      <td>1</td>\n",
       "      <td>1</td>\n",
       "      <td>0</td>\n",
       "      <td>1</td>\n",
       "      <td>1</td>\n",
       "    </tr>\n",
       "  </tbody>\n",
       "</table>\n",
       "</div>"
      ],
      "text/plain": [
       "                                      38107                35244  \\\n",
       "avg_dist                              13.75                 3.59   \n",
       "avg_rating_by_driver                      5                    5   \n",
       "avg_rating_of_driver                      5               4.6017   \n",
       "avg_surge                                 1                    1   \n",
       "last_trip_date          2014-01-01 00:00:00  2014-01-01 00:00:00   \n",
       "phone                                     1                    1   \n",
       "signup_date                      2014-01-01           2014-01-01   \n",
       "surge_pct                                 0                    0   \n",
       "trips_in_first_30_days                    2                    1   \n",
       "luxury_car_user                           0                    1   \n",
       "weekday_pct                             100                  100   \n",
       "churn                                     1                    1   \n",
       "city_Astapor                              0                    0   \n",
       "city_King's Landing                       0                    0   \n",
       "city_Winterfell                           1                    1   \n",
       "\n",
       "                                      1449                 9287   \\\n",
       "avg_dist                               2.45                 4.45   \n",
       "avg_rating_by_driver                      5                    5   \n",
       "avg_rating_of_driver                      5                    2   \n",
       "avg_surge                              1.25                    1   \n",
       "last_trip_date          2014-01-01 00:00:00  2014-01-01 00:00:00   \n",
       "phone                                     1                    1   \n",
       "signup_date                      2014-01-01           2014-01-01   \n",
       "surge_pct                               100                    0   \n",
       "trips_in_first_30_days                    1                    1   \n",
       "luxury_car_user                           0                    0   \n",
       "weekday_pct                             100                  100   \n",
       "churn                                     1                    1   \n",
       "city_Astapor                              1                    0   \n",
       "city_King's Landing                       0                    0   \n",
       "city_Winterfell                           0                    1   \n",
       "\n",
       "                                      7168   \n",
       "avg_dist                              18.36  \n",
       "avg_rating_by_driver                      5  \n",
       "avg_rating_of_driver                      4  \n",
       "avg_surge                                 1  \n",
       "last_trip_date          2014-01-01 00:00:00  \n",
       "phone                                     0  \n",
       "signup_date                      2014-01-01  \n",
       "surge_pct                                 0  \n",
       "trips_in_first_30_days                    1  \n",
       "luxury_car_user                           0  \n",
       "weekday_pct                             100  \n",
       "churn                                     1  \n",
       "city_Astapor                              0  \n",
       "city_King's Landing                       0  \n",
       "city_Winterfell                           1  "
      ]
     },
     "execution_count": 17,
     "metadata": {},
     "output_type": "execute_result"
    }
   ],
   "source": [
    "df.head(5).T"
   ]
  },
  {
   "cell_type": "code",
   "execution_count": 18,
   "metadata": {},
   "outputs": [],
   "source": [
    "\n",
    "X = df.drop(columns = ['signup_date','last_trip_date','churn'])\n"
   ]
  },
  {
   "cell_type": "code",
   "execution_count": 19,
   "metadata": {},
   "outputs": [],
   "source": [
    "y = df['churn']"
   ]
  },
  {
   "cell_type": "code",
   "execution_count": 50,
   "metadata": {},
   "outputs": [
    {
     "data": {
      "text/plain": [
       "LogisticRegression(C=1.0, class_weight=None, dual=False, fit_intercept=True,\n",
       "          intercept_scaling=1, max_iter=100, multi_class='ovr', n_jobs=1,\n",
       "          penalty='l2', random_state=None, solver='liblinear', tol=0.0001,\n",
       "          verbose=0, warm_start=False)"
      ]
     },
     "execution_count": 50,
     "metadata": {},
     "output_type": "execute_result"
    }
   ],
   "source": [
    "log_model = LogisticRegression()\n",
    "log_model.fit(X_train,y_train)"
   ]
  },
  {
   "cell_type": "code",
   "execution_count": 51,
   "metadata": {},
   "outputs": [],
   "source": [
    "#X.head(5).T\n",
    "y_pred = log_model.predict(X_test)"
   ]
  },
  {
   "cell_type": "code",
   "execution_count": 52,
   "metadata": {},
   "outputs": [
    {
     "data": {
      "text/plain": [
       "0.7252293115613345"
      ]
     },
     "execution_count": 52,
     "metadata": {},
     "output_type": "execute_result"
    }
   ],
   "source": [
    "accuracy_score(y_test, y_pred)"
   ]
  },
  {
   "cell_type": "code",
   "execution_count": 23,
   "metadata": {},
   "outputs": [
    {
     "data": {
      "text/plain": [
       "array([[21105,  3642],\n",
       "       [ 7449,  7485]])"
      ]
     },
     "execution_count": 23,
     "metadata": {},
     "output_type": "execute_result"
    }
   ],
   "source": [
    "confusion_matrix(y, y_pred, labels = [1,0])"
   ]
  },
  {
   "cell_type": "code",
   "execution_count": 24,
   "metadata": {},
   "outputs": [],
   "source": [
    "tn, fp, fn, tp = confusion_matrix(y, y_pred).ravel()"
   ]
  },
  {
   "cell_type": "code",
   "execution_count": 25,
   "metadata": {},
   "outputs": [
    {
     "data": {
      "text/plain": [
       "(7485, 7449, 3642, 21105)"
      ]
     },
     "execution_count": 25,
     "metadata": {},
     "output_type": "execute_result"
    }
   ],
   "source": [
    "(tn, fp, fn, tp)"
   ]
  },
  {
   "cell_type": "code",
   "execution_count": 26,
   "metadata": {},
   "outputs": [],
   "source": [
    "con_matrix = np.array([[tp, fn], [fp, tn]])"
   ]
  },
  {
   "cell_type": "code",
   "execution_count": 27,
   "metadata": {},
   "outputs": [
    {
     "data": {
      "text/plain": [
       "array([[21105,  3642],\n",
       "       [ 7449,  7485]])"
      ]
     },
     "execution_count": 27,
     "metadata": {},
     "output_type": "execute_result"
    }
   ],
   "source": [
    "con_matrix"
   ]
  },
  {
   "cell_type": "code",
   "execution_count": 28,
   "metadata": {},
   "outputs": [
    {
     "data": {
      "text/plain": [
       "array([[ 3.59665990e-02,  1.72394924e-01,  7.21270257e-02,\n",
       "         2.60620832e-01, -1.09552564e+00, -4.34919791e-03,\n",
       "        -1.20914529e-01, -8.81856449e-01,  3.11127627e-04,\n",
       "         7.95308741e-01, -9.32481169e-01,  2.77359229e-01]])"
      ]
     },
     "execution_count": 28,
     "metadata": {},
     "output_type": "execute_result"
    }
   ],
   "source": [
    "log_model.coef_"
   ]
  },
  {
   "cell_type": "code",
   "execution_count": 30,
   "metadata": {},
   "outputs": [],
   "source": [
    "coeff = log_model.coef_\n",
    "ind = (coeff**2).argsort()\n",
    "labels = [item for item in X.columns]"
   ]
  },
  {
   "cell_type": "code",
   "execution_count": 31,
   "metadata": {},
   "outputs": [
    {
     "data": {
      "image/png": "[encoded data removed]",
      "text/plain": [
       "<matplotlib.figure.Figure at 0x1a0c52d6d8>"
      ]
     },
     "metadata": {},
     "output_type": "display_data"
    }
   ],
   "source": [
    "fig,ax = plt.subplots()\n",
    "plt.axhline(y=0,color='red')\n",
    "plt.plot(np.linspace(0, 11, 12), coeff.T)\n",
    "ax.set_xticklabels(labels)\n",
    "plt.xticks(np.linspace(0,11,12), rotation=90);"
   ]
  },
  {
   "cell_type": "code",
   "execution_count": 32,
   "metadata": {},
   "outputs": [
    {
     "data": {
      "image/png": "[encoded data removed]",
      "text/plain": [
       "<matplotlib.figure.Figure at 0x1a0cf55358>"
      ]
     },
     "metadata": {},
     "output_type": "display_data"
    }
   ],
   "source": [
    "fig = plt.figure(figsize=(12,8))\n",
    "ax = fig.add_subplot()\n",
    "x = np.linspace(0, 11, 12)\n",
    "markerline, stemlines, baseline = plt.stem(x, coeff.T, '-.')\n",
    "plt.setp(baseline, color='r', linewidth=2)\n",
    "plt.xticks(np.linspace(0,11,12), labels,rotation=90)\n",
    "plt.xlabel('Features')\n",
    "plt.ylabel('Beta Coefficients')\n",
    "plt.title('Feature Impact')\n",
    "plt.grid(linestyle ='--',lw=0.5)\n",
    "plt.show()"
   ]
  },
  {
   "cell_type": "code",
   "execution_count": 33,
   "metadata": {},
   "outputs": [
    {
     "name": "stdout",
     "output_type": "stream",
     "text": [
      "             precision    recall  f1-score   support\n",
      "\n",
      "          0       0.67      0.50      0.57     14934\n",
      "          1       0.74      0.85      0.79     24747\n",
      "\n",
      "avg / total       0.71      0.72      0.71     39681\n",
      "\n"
     ]
    }
   ],
   "source": [
    "print(classification_report(y, y_pred))"
   ]
  },
  {
   "cell_type": "code",
   "execution_count": 45,
   "metadata": {},
   "outputs": [
    {
     "data": {
      "text/plain": [
       "RandomForestClassifier(bootstrap=True, class_weight=None, criterion='gini',\n",
       "            max_depth=None, max_features='auto', max_leaf_nodes=None,\n",
       "            min_impurity_decrease=0.0, min_impurity_split=None,\n",
       "            min_samples_leaf=1, min_samples_split=2,\n",
       "            min_weight_fraction_leaf=0.0, n_estimators=10, n_jobs=1,\n",
       "            oob_score=False, random_state=None, verbose=0,\n",
       "            warm_start=False)"
      ]
     },
     "execution_count": 45,
     "metadata": {},
     "output_type": "execute_result"
    }
   ],
   "source": [
    "X_train, X_test, y_train, y_test = train_test_split(X, y, test_size = 0.25)\n",
    "\n",
    "rf_model = RandomForestClassifier()\n",
    "rf_model.fit(X_train, y_train)"
   ]
  },
  {
   "cell_type": "code",
   "execution_count": 49,
   "metadata": {},
   "outputs": [
    {
     "data": {
      "text/plain": [
       "array([0.2942768 , 0.10135087, 0.08149106, 0.07215816, 0.03514941,\n",
       "       0.08780303, 0.0780148 , 0.03409629, 0.14093942, 0.01335974,\n",
       "       0.0514327 , 0.00992775])"
      ]
     },
     "execution_count": 49,
     "metadata": {},
     "output_type": "execute_result"
    }
   ],
   "source": [
    "rf_model.feature_importances_"
   ]
  },
  {
   "cell_type": "code",
   "execution_count": 46,
   "metadata": {},
   "outputs": [],
   "source": [
    "y_pred = rf_model.predict(X_test)"
   ]
  },
  {
   "cell_type": "code",
   "execution_count": 47,
   "metadata": {},
   "outputs": [],
   "source": [
    "def metrics(y, y_pred):\n",
    "    print(\"Accuracy Score: \", accuracy_score(y, y_pred))\n",
    "    print(\"Confusion Matrix: \", confusion_matrix(y, y_pred, labels = [1,0]))\n",
    "    tn, fp, fn, tp = confusion_matrix(y, y_pred).ravel()\n",
    "    print(\"Precision Score: \", precision_score(y, y_pred))\n",
    "    print(\"Recall Score: \", recall_score(y, y_pred))\n",
    "    print(\"\")\n",
    "    return"
   ]
  },
  {
   "cell_type": "code",
   "execution_count": 53,
   "metadata": {},
   "outputs": [
    {
     "name": "stdout",
     "output_type": "stream",
     "text": [
      "Accuracy Score:  0.7252293115613345\n",
      "Confusion Matrix:  [[5299  877]\n",
      " [1849 1896]]\n",
      "Precision Score:  0.7413262451035255\n",
      "Recall Score:  0.8579987046632125\n",
      "\n"
     ]
    }
   ],
   "source": [
    "metrics(y_test, y_pred)"
   ]
  },
  {
   "cell_type": "code",
   "execution_count": 120,
   "metadata": {},
   "outputs": [],
   "source": [
    "def model_pred(X_train, y_train, X_test, y_test, model, trees = 100):\n",
    "    if model == LogisticRegression:\n",
    "        model = model()\n",
    "    else:\n",
    "        model = model(n_estimators = trees)\n",
    "    model.fit(X_train, y_train)\n",
    "    y_pred = model.predict(X_test)\n",
    "    y_pred_probs = model.predict_proba(X_test)[:,1]\n",
    "    return y_pred, y_pred_probs"
   ]
  },
  {
   "cell_type": "code",
   "execution_count": 121,
   "metadata": {},
   "outputs": [],
   "source": [
    "# ROC Curve\n",
    "def ROC_curve_plot(y_test,y_pred_probs, model):\n",
    "    fpr, tpr, _ = roc_curve(y_test, y_pred_probs)\n",
    "    plt.figure(1)\n",
    "    plt.plot([0, 1], [0, 1], 'k--')\n",
    "    plt.plot(fpr, tpr, label=model)\n",
    "    plt.xlabel('False positive rate')\n",
    "    plt.ylabel('True positive rate')\n",
    "    plt.title('ROC curve')\n",
    "    plt.legend(loc='best')\n",
    "    plt.show()\n",
    "    return \n",
    "    "
   ]
  },
  {
   "cell_type": "code",
   "execution_count": 79,
   "metadata": {},
   "outputs": [],
   "source": [
    "y_pred, y_pred_probs = model_pred(X_train, y_train, X_test, y_test, RandomForestClassifier)"
   ]
  },
  {
   "cell_type": "code",
   "execution_count": 84,
   "metadata": {},
   "outputs": [
    {
     "data": {
      "text/plain": [
       "(9921,)"
      ]
     },
     "execution_count": 84,
     "metadata": {},
     "output_type": "execute_result"
    }
   ],
   "source": [
    "y_pred_probs.shape"
   ]
  },
  {
   "cell_type": "code",
   "execution_count": 82,
   "metadata": {},
   "outputs": [
    {
     "data": {
      "image/png": "[encoded data removed]",
      "text/plain": [
       "<matplotlib.figure.Figure at 0x1a17138438>"
      ]
     },
     "metadata": {},
     "output_type": "display_data"
    }
   ],
   "source": [
    "ROC_curve_plot(y_test,y_pred_probs, 'RF')"
   ]
  },
  {
   "cell_type": "code",
   "execution_count": 85,
   "metadata": {},
   "outputs": [
    {
     "data": {
      "image/png": "[encoded data removed]",
      "text/plain": [
       "<matplotlib.figure.Figure at 0x1042a87f0>"
      ]
     },
     "metadata": {},
     "output_type": "display_data"
    }
   ],
   "source": [
    "y_pred, y_pred_probs = model_pred(X_train, y_train, X_test, y_test, LogisticRegression)\n",
    "ROC_curve_plot(y_test,y_pred_probs, 'LR')"
   ]
  },
  {
   "cell_type": "code",
   "execution_count": 128,
   "metadata": {},
   "outputs": [],
   "source": [
    "def ROC_curve_plots(y_test,y_pred_probs1, y_pred_probs2, y_pred_probs3, model1, model2, model3):\n",
    "    fpr1, tpr1, _ = roc_curve(y_test, y_pred_probs1)\n",
    "    auc1 = roc_auc_score(y_test, y_pred_probs1)\n",
    "    fpr2, tpr2, _ = roc_curve(y_test, y_pred_probs2)\n",
    "    auc2 = roc_auc_score(y_test, y_pred_probs2)\n",
    "    fpr3, tpr3, _ = roc_curve(y_test, y_pred_probs3)\n",
    "    auc3 = roc_auc_score(y_test, y_pred_probs3) \n",
    "    plt.figure(1,figsize=(12,8))\n",
    "    plt.plot([0, 1], [0, 1], 'k--')\n",
    "    plt.plot(fpr1, tpr1, label=f'{model1} AUC={round(auc1,3)}')\n",
    "    plt.plot(fpr2, tpr2, label=f'{model2} AUC={round(auc2,3)}')\n",
    "    plt.plot(fpr3, tpr3, label=f'{model3} AUC={round(auc3,3)}')\n",
    "    plt.xlabel('False positive rate')\n",
    "    plt.ylabel('True positive rate')\n",
    "    plt.title('ROC curve')\n",
    "    plt.legend(loc='best')\n",
    "    plt.show()\n",
    "    return "
   ]
  },
  {
   "cell_type": "code",
   "execution_count": 126,
   "metadata": {},
   "outputs": [],
   "source": [
    "y_pred1, y_pred_probs1 = model_pred(X_train, y_train, X_test, y_test, LogisticRegression)\n",
    "y_pred2, y_pred_probs2 = model_pred(X_train, y_train, X_test, y_test, RandomForestClassifier)\n",
    "y_pred3, y_pred_probs3 = model_pred(X_train, y_train, X_test, y_test, GradientBoostingClassifier)"
   ]
  },
  {
   "cell_type": "code",
   "execution_count": 129,
   "metadata": {},
   "outputs": [
    {
     "data": {
      "image/png": "[encoded data removed]",
      "text/plain": [
       "<matplotlib.figure.Figure at 0x1a1abe4f60>"
      ]
     },
     "metadata": {},
     "output_type": "display_data"
    }
   ],
   "source": [
    "ROC_curve_plots(y_test,y_pred_probs1, y_pred_probs2,y_pred_probs3, 'LR', 'RF','GB')"
   ]
  },
  {
   "cell_type": "code",
   "execution_count": 139,
   "metadata": {},
   "outputs": [],
   "source": [
    "cost_benefit = np.array([[0, 0], [-0.7, 0.3]]).T\n",
    "def profit_curve(cost_benefit, predicted_probs, y_test):\n",
    "    \"\"\"Function to calculate list of profits based on supplied cost-benefit\n",
    "    matrix and prediced probabilities of data points and thier true labels.\n",
    "    Parameters\n",
    "    ----------\n",
    "    cost_benefit    : ndarray - 2D, with profit values corresponding to:\n",
    "                                          -----------\n",
    "                                          | TP | FP |\n",
    "                                          -----------\n",
    "                                          | FN | TN |\n",
    "                                          -----------\n",
    "    predicted_probs : ndarray - 1D, predicted probability for each datapoint\n",
    "                                    in labels, in range [0, 1]\n",
    "    labels          : ndarray - 1D, true label of datapoints, 0 or 1\n",
    "    Returns\n",
    "    -------\n",
    "    profits    : ndarray - 1D\n",
    "    thresholds : ndarray - 1D\n",
    "    \"\"\"\n",
    "    n_obs = float(len(y_test))\n",
    "    # Make sure that 1 is going to be one of our thresholds\n",
    "    maybe_one = [] if 1 in predicted_probs else [1] \n",
    "    all_thresholds = maybe_one + sorted(predicted_probs, reverse=True)\n",
    "    thresholds = all_thresholds[::50]\n",
    "    profits = []\n",
    "    for threshold in thresholds:\n",
    "        y_predict = predicted_probs >= threshold\n",
    "        confusion_matrix_ = confusion_matrix(y_test, y_predict, labels = [1,0])\n",
    "        threshold_profit = np.sum(confusion_matrix_ * cost_benefit) / n_obs\n",
    "        profits.append(threshold_profit)\n",
    "    return np.array(profits), np.array(thresholds)"
   ]
  },
  {
   "cell_type": "code",
   "execution_count": 140,
   "metadata": {},
   "outputs": [],
   "source": [
    "\n",
    "def get_model_profits(model, cost_benefit, X_train, X_test, y_train, y_test):\n",
    "    \"\"\"Fits passed model on training data and calculates profit from cost-benefit\n",
    "    matrix at each probability threshold.\n",
    "    Parameters\n",
    "    ----------\n",
    "    model           : sklearn model - need to implement fit and predict\n",
    "    cost_benefit    : ndarray - 2D, with profit values corresponding to:\n",
    "                                          -----------\n",
    "                                          | TP | FP |\n",
    "                                          -----------\n",
    "                                          | FN | TN |\n",
    "                                          -----------\n",
    "    X_train         : ndarray - 2D\n",
    "    X_test          : ndarray - 2D\n",
    "    y_train         : ndarray - 1D\n",
    "    y_test          : ndarray - 1D\n",
    "    Returns\n",
    "    -------\n",
    "    model_profits : model, profits, thresholds\n",
    "    \"\"\"\n",
    "    model.fit(X_train, y_train)\n",
    "    predicted_probs = model.predict_proba(X_test)[:, 1]\n",
    "    profits, thresholds = profit_curve(cost_benefit, predicted_probs, y_test)\n",
    "\n",
    "    return profits, thresholds"
   ]
  },
  {
   "cell_type": "code",
   "execution_count": 146,
   "metadata": {},
   "outputs": [],
   "source": [
    "profs, thrs = profit_curve(cost_benefit, y_pred_probs3, y_test)"
   ]
  },
  {
   "cell_type": "code",
   "execution_count": 147,
   "metadata": {},
   "outputs": [
    {
     "data": {
      "text/plain": [
       "0.3267159398708565"
      ]
     },
     "execution_count": 147,
     "metadata": {},
     "output_type": "execute_result"
    }
   ],
   "source": [
    "max_thr = thrs[np.argmax(profs)]\n",
    "max_thr"
   ]
  },
  {
   "cell_type": "code",
   "execution_count": 148,
   "metadata": {},
   "outputs": [],
   "source": [
    "max_profs = np.max(profs)\n"
   ]
  },
  {
   "cell_type": "code",
   "execution_count": 149,
   "metadata": {},
   "outputs": [
    {
     "data": {
      "text/plain": [
       "0.029865940933373646"
      ]
     },
     "execution_count": 149,
     "metadata": {},
     "output_type": "execute_result"
    }
   ],
   "source": [
    "max_profs"
   ]
  },
  {
   "cell_type": "code",
   "execution_count": 165,
   "metadata": {},
   "outputs": [
    {
     "data": {
      "image/png": "[encoded data removed]",
      "text/plain": [
       "<matplotlib.figure.Figure at 0x1a0d64ce80>"
      ]
     },
     "metadata": {},
     "output_type": "display_data"
    }
   ],
   "source": [
    "new_model = GradientBoostingClassifier()\n",
    "new_model.fit(X_train, y_train)\n",
    "#print(\" done.\")\n",
    "\n",
    "#print('Convenience plot with ``partial_dependence_plots``')\n",
    "\n",
    "features = [4,7,9,10]\n",
    "fig, axs = plot_partial_dependence(new_model, X_train, features,figsize = (10, 10), \n",
    "                                   feature_names= [item for item in X.columns],\n",
    "                                   n_jobs=3, grid_resolution=50)\n",
    "fig.suptitle('Partial dependence plots')\n",
    "plt.subplots_adjust(top=0.9, bottom = 0.2, wspace = 0.5)  # tight_layout causes overlap with suptitle\n",
    "\n",
    "#print('Custom 3d plot via ``partial_dependence``')\n",
    "#fig = plt.figure()\n"
   ]
  },
  {
   "cell_type": "code",
   "execution_count": null,
   "metadata": {},
   "outputs": [],
   "source": []
  }
 ],
 "metadata": {
  "kernelspec": {
   "display_name": "Python 3",
   "language": "python",
   "name": "python3"
  },
  "language_info": {
   "codemirror_mode": {
    "name": "ipython",
    "version": 3
   },
   "file_extension": ".py",
   "mimetype": "text/x-python",
   "name": "python",
   "nbconvert_exporter": "python",
   "pygments_lexer": "ipython3",
   "version": "3.9.0"
  }
 },
 "nbformat": 4,
 "nbformat_minor": 2
}
